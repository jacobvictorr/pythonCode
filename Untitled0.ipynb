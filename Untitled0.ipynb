{
  "nbformat": 4,
  "nbformat_minor": 0,
  "metadata": {
    "colab": {
      "name": "Untitled0.ipynb",
      "provenance": [],
      "authorship_tag": "ABX9TyOPhnxwtaDQU3bo6M6QYPFK",
      "include_colab_link": true
    },
    "kernelspec": {
      "name": "python3",
      "display_name": "Python 3"
    },
    "language_info": {
      "name": "python"
    }
  },
  "cells": [
    {
      "cell_type": "markdown",
      "metadata": {
        "id": "view-in-github",
        "colab_type": "text"
      },
      "source": [
        "<a href=\"https://colab.research.google.com/github/jacobvictorr/pythonCode/blob/main/Untitled0.ipynb\" target=\"_parent\"><img src=\"https://colab.research.google.com/assets/colab-badge.svg\" alt=\"Open In Colab\"/></a>"
      ]
    },
    {
      "cell_type": "code",
      "execution_count": null,
      "metadata": {
        "id": "j7ryowlySnMJ"
      },
      "outputs": [],
      "source": [
        "#1 Adding two numbers\n",
        "num1=1.5\n",
        "num2=6.3\n",
        "sum=(num1)+(num2)\n",
        "print('The sum of {0} and {1} is {2}'.format(num1,num2,sum))"
      ]
    },
    {
      "cell_type": "code",
      "source": [
        "#2 Adding two numbers with user input\n",
        "num1=input('Enter first number:')\n",
        "num2=input('Enter second number:')\n",
        "sum=float(num1)+float(num2)\n",
        "print('The sum of {0} and {1} is {2}'.format(num1,num2,sum))"
      ],
      "metadata": {
        "id": "Oba42Od_dO3B"
      },
      "execution_count": null,
      "outputs": []
    },
    {
      "cell_type": "code",
      "source": [
        "#3 To calculate the square root\n",
        "num=8\n",
        "num_sqrt = num**0.5\n",
        "print('The squareroot of %0.3f is %0.3f'%(num,num_sqrt))\n"
      ],
      "metadata": {
        "id": "cG_cf2EJdTJX"
      },
      "execution_count": null,
      "outputs": []
    },
    {
      "cell_type": "code",
      "source": [
        "#4 To calculate the square root of complex numbers\n",
        "import cmath\n",
        "num=1+2j\n",
        "num_sqrt=cmath.sqrt(num)\n",
        "print('The square root of {0} is {1:0.3f}+{2:0.3f}j'.format(num,num_sqrt.real,num_sqrt.imag))\n"
      ],
      "metadata": {
        "id": "CoeeUsLPd04C"
      },
      "execution_count": null,
      "outputs": []
    },
    {
      "cell_type": "code",
      "source": [
        "#5 To find area of triangle\n",
        "a=5\n",
        "b=6\n",
        "c=7\n",
        "s=(a+b+c)/2\n",
        "area=(s*(s-a)*(s-b)*(s-c))**0.5\n",
        "print('The area of the triangle is %0.2f'%area)"
      ],
      "metadata": {
        "id": "OpjMZspxeLPd"
      },
      "execution_count": null,
      "outputs": []
    },
    {
      "cell_type": "code",
      "source": [
        "#6 To swap two variables\n",
        "x=5\n",
        "y=0\n",
        "temp=x\n",
        "x=y\n",
        "y=temp\n",
        "print('The value of x after swapping;{}'.format(x))\n",
        "print('The value of y after swapping:{}'.format(y))"
      ],
      "metadata": {
        "id": "M3dhOjl1eSyN"
      },
      "execution_count": null,
      "outputs": []
    },
    {
      "cell_type": "code",
      "source": [
        "#7 changing the value of a variable\n",
        "website=\"apple.com\"\n",
        "print(website)\n",
        "website=\"programiz.com\"\n",
        "print(website)"
      ],
      "metadata": {
        "id": "5Tr0v-t6e4iw"
      },
      "execution_count": null,
      "outputs": []
    },
    {
      "cell_type": "code",
      "source": [
        "#8 assigning multiple values to multiple variables\n",
        "a,b,c=5,3.2,\"Hello\"\n",
        "print(a)\n",
        "print(b)\n",
        "print(c)"
      ],
      "metadata": {
        "id": "hURRR2k9fBdw"
      },
      "execution_count": null,
      "outputs": []
    },
    {
      "cell_type": "code",
      "source": [
        "#9 Numeric literals\n",
        "a = 0b1010#Binary Literals\n",
        "b = 100#Decimal Literal \n",
        "c = 0o310#Octal Literal\n",
        "d = 0x12c#Hexadecimal Literal\n",
        "#Float Literal\n",
        "float_1 = 10.5\n",
        "float_2 = 1.5e2\n",
        "#Complex Literal \n",
        "x = 3.14j\n",
        "print(a, b, c, d)\n",
        "print(float_1, float_2)\n",
        "print(x, x.imag, x.real)"
      ],
      "metadata": {
        "id": "EOnac8PifFGR"
      },
      "execution_count": null,
      "outputs": []
    },
    {
      "cell_type": "code",
      "source": [
        "#10 String literals\n",
        "strings=\"This is Python\"\n",
        "char=\"C\"\n",
        "multiline_str=\"\"\"This is a multiline string with more than one line code.\"\"\"\n",
        "unicode=u\"\\u00dcnic\\u00f6de\"\n",
        "raw_str=r\"raw\\n string\"\n",
        "print(strings)\n",
        "print(char)\n",
        "print(multiline_str)\n",
        "print(unicode)\n",
        "print(raw_str)"
      ],
      "metadata": {
        "id": "Ccw94CbefPyZ"
      },
      "execution_count": null,
      "outputs": []
    },
    {
      "cell_type": "code",
      "source": [
        "#11 Boolean literals\n",
        "x=(1==True)\n",
        "y=(1==False)\n",
        "a=True+4\n",
        "b=False+10\n",
        "print(\"x is\",x)\n",
        "print(\"y is\",y)\n",
        "print(\"a:\",a)\n",
        "print(\"b:\",b)"
      ],
      "metadata": {
        "id": "Irk6PBEjfUYJ"
      },
      "execution_count": null,
      "outputs": []
    },
    {
      "cell_type": "code",
      "source": [
        "#12 Special literals\n",
        "drink=\"Available\"\n",
        "food=None\n",
        "def menu(x):\n",
        "  if x==drink:\n",
        "    print(drink)\n",
        "  else:\n",
        "    print(food)\n",
        "menu(drink)\n",
        "menu(food)"
      ],
      "metadata": {
        "id": "7EdXaEmdfsxc"
      },
      "execution_count": null,
      "outputs": []
    },
    {
      "cell_type": "code",
      "source": [
        "#13 Literal collections\n",
        "fruits=[\"apple\",\"mango\",\"orange\"]#list\n",
        "numbers=(1,2,3)#tuple\n",
        "alphabets={'a':'apple', 'b':'ball', 'c':'cat'} #dictionary\n",
        "vowels = {'a', 'e', 'i' , 'o', 'u'} #set\n",
        "print(fruits)\n",
        "print(numbers)\n",
        "print(alphabets)\n",
        "print(vowels)"
      ],
      "metadata": {
        "id": "Zf0a7BKSf97s"
      },
      "execution_count": null,
      "outputs": []
    },
    {
      "cell_type": "code",
      "source": [
        "#14 find the max of three numbers\n",
        "def max_of_two(x,y):\n",
        "  if x>y:\n",
        "    return x\n",
        "  return y\n",
        "def max_of_three(x,y,z):\n",
        "  return max_of_two(x,max_of_two(y,z))\n",
        "print(max_of_three(3,6,9))"
      ],
      "metadata": {
        "id": "fRmqKz02gDEV"
      },
      "execution_count": null,
      "outputs": []
    },
    {
      "cell_type": "code",
      "source": [
        "#15 find sum of numbers in a list\n",
        "def sum(numbers):\n",
        "  total=0\n",
        "  for x in numbers:\n",
        "    total+=x\n",
        "  return total\n",
        "print(sum((8,2,3,0,7)))"
      ],
      "metadata": {
        "id": "Vau9ggucgKZ2"
      },
      "execution_count": null,
      "outputs": []
    },
    {
      "cell_type": "code",
      "source": [
        "#16 find product of all numbers in a list\n",
        "def multiply(numbers):\n",
        "  total=1\n",
        "  for x in numbers:\n",
        "    total*=x\n",
        "  return total\n",
        "print(multiply((8,2,3,-1,7)))"
      ],
      "metadata": {
        "id": "bmJZnfS5gQr2"
      },
      "execution_count": null,
      "outputs": []
    },
    {
      "cell_type": "code",
      "source": [
        "#17 reverse a string\n",
        "def string_reverse(str1):\n",
        "  rstr1=' '\n",
        "  index=len(str1)\n",
        "  while index>0:\n",
        "    rstr1+=str1[index-1]\n",
        "    index=index-1\n",
        "  return rstr1\n",
        "print(string_reverse('1234abcd'))"
      ],
      "metadata": {
        "id": "zMCMSlrbgY0e"
      },
      "execution_count": null,
      "outputs": []
    },
    {
      "cell_type": "code",
      "source": [
        "#18 calculate factorial \n",
        "def factorial(n):\n",
        "  if n == 0:\n",
        "    return 1\n",
        "  else:\n",
        "    return n * factorial(n-1)\n",
        "n=int(input(\"Input a number  to compute the factorial: \"))\n",
        "print(factorial(n))"
      ],
      "metadata": {
        "id": "_LujQJj9gneX"
      },
      "execution_count": null,
      "outputs": []
    },
    {
      "cell_type": "code",
      "source": [
        "#19 check whether a number falls in a given range\n",
        "def test_range(n):\n",
        "  if n in range(3,9):\n",
        "    print(\"%s is in the range\"%str(n))\n",
        "  else:\n",
        "    print(\"The number is outside the given range.\")\n",
        "test_range(5)"
      ],
      "metadata": {
        "id": "fLfx2yqIgqZX"
      },
      "execution_count": null,
      "outputs": []
    },
    {
      "cell_type": "code",
      "source": [
        "#20 calculate the number of upper/lower case letters in a string\n",
        "def string_test(s):\n",
        "    d={\"UPPER_CASE\":0, \"LOWER_CASE\":0}\n",
        "    for c in s:\n",
        "        if c.isupper():\n",
        "           d[\"UPPER_CASE\"]+=1\n",
        "        elif c.islower():\n",
        "           d[\"LOWER_CASE\"]+=1\n",
        "        else:\n",
        "           pass\n",
        "    print (\"Original String : \", s)\n",
        "    print (\"No. of Upper case characters : \", d[\"UPPER_CASE\"])\n",
        "    print (\"No. of Lower case Characters : \", d[\"LOWER_CASE\"])"
      ],
      "metadata": {
        "id": "Ws7BX7Upg4Kg"
      },
      "execution_count": null,
      "outputs": []
    },
    {
      "cell_type": "code",
      "source": [
        "#21 unique elements from a list\n",
        "def unique_list(l):\n",
        "  x = []\n",
        "  for a in l:\n",
        "    if a not in x:\n",
        "      x.append(a)\n",
        "  return x\n",
        "print(unique_list([1,2,3,3,3,3,4,5]))"
      ],
      "metadata": {
        "id": "0xt81Qrlg5K4"
      },
      "execution_count": null,
      "outputs": []
    },
    {
      "cell_type": "code",
      "source": [
        "#22 test the numbber is prime or not\n",
        "def test_prime(n):\n",
        "    if (n==1):\n",
        "        return False\n",
        "    elif (n==2):\n",
        "        return True;\n",
        "    else:\n",
        "        for x in range(2,n):\n",
        "            if(n % x==0):\n",
        "                return False\n",
        "        return True             \n",
        "print(test_prime(9))"
      ],
      "metadata": {
        "id": "22cMZwHVg9MA"
      },
      "execution_count": null,
      "outputs": []
    },
    {
      "cell_type": "code",
      "source": [
        "#23 print even numbers from a given list\n",
        "def is_even_num(l):\n",
        "    enum = []\n",
        "    for n in l:\n",
        "        if n % 2 == 0:\n",
        "            enum.append(n)\n",
        "    return enum\n",
        "print(is_even_num([1, 2, 3, 4, 5, 6, 7, 8, 9]))"
      ],
      "metadata": {
        "id": "M-0OYWx9hCYI"
      },
      "execution_count": null,
      "outputs": []
    },
    {
      "cell_type": "code",
      "source": [
        "#24 check whether a number is perfect or not\n",
        "def perfect_number(n):\n",
        "    sum = 0\n",
        "    for x in range(1, n):\n",
        "        if n % x == 0:\n",
        "            sum += x\n",
        "    return sum == n\n",
        "print(perfect_number(6))"
      ],
      "metadata": {
        "colab": {
          "base_uri": "https://localhost:8080/"
        },
        "id": "doib0u4GhWKa",
        "outputId": "190f3da8-bb60-466d-fc83-f52058bebb96"
      },
      "execution_count": 1,
      "outputs": [
        {
          "output_type": "stream",
          "name": "stdout",
          "text": [
            "[2, 4, 6, 8]\n"
          ]
        }
      ]
    },
    {
      "cell_type": "code",
      "source": [
        "#25 checks whether a passed string is palindrome or not\n",
        "def isPalindrome(string):\n",
        "\tleft_pos = 0\n",
        "\tright_pos = len(string) - 1\n",
        "\twhile right_pos >= left_pos:\n",
        "\t\tif not string[left_pos] == string[right_pos]:\n",
        "\t\t\treturn False\n",
        "\t\tleft_pos += 1\n",
        "\t\tright_pos -= 1\n",
        "\treturn True\n",
        "print(isPalindrome('aza'))"
      ],
      "metadata": {
        "id": "PSFFW8E6ho48"
      },
      "execution_count": null,
      "outputs": []
    },
    {
      "cell_type": "code",
      "source": [
        "#26 print out the first n rows of pascal's triangle\n",
        "def pascal_triangle(n):\n",
        "   trow = [1]\n",
        "   y = [0]\n",
        "   for x in range(max(n,0)):\n",
        "      print(trow)\n",
        "      trow=[l+r for l,r in zip(trow+y, y+trow)]\n",
        "   return n>=1\n",
        "pascal_triangle(6)"
      ],
      "metadata": {
        "colab": {
          "base_uri": "https://localhost:8080/"
        },
        "id": "9ma8JsIEhqeL",
        "outputId": "cf48387a-0443-42a9-f3c0-e0c0fe043eb7"
      },
      "execution_count": 2,
      "outputs": [
        {
          "output_type": "stream",
          "name": "stdout",
          "text": [
            "[1]\n",
            "[1, 1]\n",
            "[1, 2, 1]\n",
            "[1, 3, 3, 1]\n",
            "[1, 4, 6, 4, 1]\n",
            "[1, 5, 10, 10, 5, 1]\n"
          ]
        },
        {
          "output_type": "execute_result",
          "data": {
            "text/plain": [
              "True"
            ]
          },
          "metadata": {},
          "execution_count": 2
        }
      ]
    },
    {
      "cell_type": "code",
      "source": [
        "#27 check whether a string is pangram or not\n",
        "import string, sys\n",
        "def ispangram(str1, alphabet=string.ascii_lowercase):\n",
        "    alphaset = set(alphabet)\n",
        "    return alphaset <= set(str1.lower()) \n",
        "print ( ispangram('The quick brown fox jumps over the lazy dog'))\n"
      ],
      "metadata": {
        "colab": {
          "base_uri": "https://localhost:8080/"
        },
        "id": "6Hvg3vNmhw8d",
        "outputId": "30ce670b-c912-465f-8b4b-64cca11249ec"
      },
      "execution_count": 4,
      "outputs": [
        {
          "output_type": "stream",
          "name": "stdout",
          "text": [
            "True\n"
          ]
        }
      ]
    },
    {
      "cell_type": "code",
      "source": [
        "#28 accept a hypen-separated sequence of words as input and prints the sorted word\n",
        "items=[n for n in input().split('-')]\n",
        "items.sort()\n",
        "print('-'.join(items))"
      ],
      "metadata": {
        "id": "LSKxMc-lhw_0"
      },
      "execution_count": null,
      "outputs": []
    },
    {
      "cell_type": "code",
      "source": [
        "#29 generate and print a list where thevalues are square of numbers bw two nums\n",
        "def printValues():\n",
        "\tl = list()\n",
        "\tfor i in range(1,21):\n",
        "\t\tl.append(i**2)\n",
        "\tprint(l)\n",
        "\t\t\n",
        "printValues()"
      ],
      "metadata": {
        "colab": {
          "base_uri": "https://localhost:8080/"
        },
        "id": "Hj3hLmVQhxDT",
        "outputId": "e511096e-a86a-42ba-99a5-79ac468b33ce"
      },
      "execution_count": 5,
      "outputs": [
        {
          "output_type": "stream",
          "name": "stdout",
          "text": [
            "[1, 4, 9, 16, 25, 36, 49, 64, 81, 100, 121, 144, 169, 196, 225, 256, 289, 324, 361, 400]\n"
          ]
        }
      ]
    },
    {
      "cell_type": "code",
      "source": [
        "#30 function decorators\n",
        "def make_bold(fn):\n",
        "    def wrapped():\n",
        "        return \"<b>\" + fn() + \"</b>\"\n",
        "    return wrapped\n",
        "def make_italic(fn):\n",
        "    def wrapped():\n",
        "        return \"<i>\" + fn() + \"</i>\"\n",
        "    return wrapped\n",
        "def make_underline(fn):\n",
        "    def wrapped():\n",
        "        return \"<u>\" + fn() + \"</u>\"\n",
        "    return wrapped\n",
        "@make_bold\n",
        "@make_italic\n",
        "@make_underline\n",
        "def hello():\n",
        "    return \"hello world\"\n",
        "print(hello()) ## returns \"<b><i><u>hello world</u></i></b>\""
      ],
      "metadata": {
        "id": "XV7Q4JprhxGk"
      },
      "execution_count": null,
      "outputs": []
    },
    {
      "cell_type": "code",
      "source": [
        "#31 execute a string containing python code\n",
        "mycode = 'print(\"hello world\")'\n",
        "code = \"\"\"\n",
        "def mutiply(x,y):\n",
        "    return x*y\n",
        "print('Multiply of 2 and 3 is: ',mutiply(2,3))\n",
        "\"\"\"\n",
        "exec(mycode)\n",
        "exec(code)"
      ],
      "metadata": {
        "id": "vDOEuzUthxJO"
      },
      "execution_count": null,
      "outputs": []
    },
    {
      "cell_type": "code",
      "source": [
        "#32 access a function inside a function\n",
        "def test(a):\n",
        "        def add(b):\n",
        "                nonlocal a\n",
        "                a += 1\n",
        "                return a+b\n",
        "        return add\n",
        "func= test(4)\n",
        "print(func(4))"
      ],
      "metadata": {
        "id": "RLwEQ9gPhxLm"
      },
      "execution_count": null,
      "outputs": []
    },
    {
      "cell_type": "code",
      "source": [
        "#33 detect the number of local var declared in a function\n",
        "def abc():\n",
        "    x = 1\n",
        "    y = 2\n",
        "    str1= \"w3resource\"\n",
        "    print(\"Python Exercises\")\n",
        "print(abc.__code__.co_nlocals)"
      ],
      "metadata": {
        "id": "U-eyIk3LhxOD"
      },
      "execution_count": null,
      "outputs": []
    },
    {
      "cell_type": "code",
      "source": [
        "#34 invoke a given function after specific milliseconds\n",
        "from time import sleep\n",
        "import math\n",
        "def delay(fn, ms, *args):\n",
        "  sleep(ms / 1000)\n",
        "  return fn(*args)\n",
        "print(\"Square root after specific miliseconds:\") \n",
        "print(delay(lambda x: math.sqrt(x), 100, 16))\n",
        "print(delay(lambda x: math.sqrt(x), 1000, 100))\n",
        "print(delay(lambda x: math.sqrt(x), 2000, 25100))"
      ],
      "metadata": {
        "id": "Rdg8yKa4hxQT"
      },
      "execution_count": null,
      "outputs": []
    },
    {
      "cell_type": "code",
      "source": [
        "#Arithmetic operations\n",
        "print(\"Choice 1: Add, 2: Sub, 3: Div, 4: Mul, 5: Quit\")\n",
        "n1=input(\"Enter the choice of operartion: \")\n",
        "n=int(n1)\n",
        "if(n==1):\n",
        "  print(\"You have choosen addition Option: \")\n",
        "  a1=input(\"Enter the value for A: \")\n",
        "  b1=input(\"Enter the value for B: \")\n",
        "  a=int(a1)\n",
        "  b=int(b1)\n",
        "  c=a+b\n",
        "  print(\"The Result\",a,\"+\",b,\"=\",c)\n",
        "elif(n==2):\n",
        "  print(\"You have choosen subtraction option:\")\n",
        "  a1=input(\"Enter the value for A: \")\n",
        "  b1=input(\"Enter the value for B: \")\n",
        "  a=int(a1)\n",
        "  b=int(b1)\n",
        "  c=a-b\n",
        "  print(\"The Result\",a,\"-\",b,\"=\",c)\n",
        "elif(n==3):\n",
        "  print(\"You have chosen division option: \")\n",
        "  a1=input(\"Enter the value for A: \")\n",
        "  b1=input(\"Enter the value for B: \")\n",
        "  a=int(a1)\n",
        "  b=int(b1)\n",
        "  c=a/b\n",
        "  print(\"The result\",a,\"/\",b,\"=\",c)\n",
        "elif(n==4):\n",
        "  print(\"You have chosen multiplication option: \")\n",
        "  a1=input(\"Enter the value for A: \")\n",
        "  b1=input(\"Enter the value for B: \")\n",
        "  a=int(a1)\n",
        "  b=int(b1)\n",
        "  c=a/b\n",
        "  print(\"The result\",a,\"*\",b,\"=\",c)\n",
        "elif(n==5):\n",
        "  print(\"You have given a wrong: \",n)\n",
        "  exit()"
      ],
      "metadata": {
        "id": "Doq6U1WuhxSb"
      },
      "execution_count": null,
      "outputs": []
    },
    {
      "cell_type": "code",
      "source": [
        "#boolean expression\n",
        "a=True\n",
        "b=False\n",
        "print('a= ',a,'b= ',b)\n",
        "a=False;\n",
        "print('a= ',a,'b= ',b)"
      ],
      "metadata": {
        "id": "CVfpE59WhxUz"
      },
      "execution_count": null,
      "outputs": []
    },
    {
      "cell_type": "code",
      "source": [
        "#nested loop\n",
        "print(\"     1  2  3  4  5  6  7  8  9  10\")\n",
        "print(\"    <---------------------------->\")\n",
        "for row in range(1,11):\n",
        "  if row<10:\n",
        "    print(\" \",end=\" \")\n",
        "    for column in range(1,11):\n",
        "      product=row*column;\n",
        "      if product<100:\n",
        "        print(end=\" \")\n",
        "      if product<10:\n",
        "        print(end=\" \")\n",
        "      print(product,end=\" \")\n",
        "    print()"
      ],
      "metadata": {
        "id": "qbgJCSN9hxW1"
      },
      "execution_count": null,
      "outputs": []
    },
    {
      "cell_type": "code",
      "source": [
        "#while \n",
        "entry=0\n",
        "sum=0\n",
        "print(\"Enter numbers to sum, negative number ends list: \")\n",
        "while entry >=0:\n",
        "  entry =eval(input())\n",
        "  if entry >=0:\n",
        "    sum+=entry\n",
        "print(\"sum=\",sum)"
      ],
      "metadata": {
        "id": "B9zl_ynZhxY1"
      },
      "execution_count": null,
      "outputs": []
    },
    {
      "cell_type": "code",
      "source": [
        "#elif statement\n",
        "value=eval(input(\"Please enter an integer in the range 0....5: \"))\n",
        "if value<0:\n",
        "  print(\"To0o small\")\n",
        "else:\n",
        "  if value ==0:\n",
        "    print(\"zero\")\n",
        "  else:\n",
        "    if value==1:\n",
        "      print(\"one\")\n",
        "    else:\n",
        "      if value ==2:\n",
        "        print(\"two\")\n",
        "      else:\n",
        "        if value==3:\n",
        "          print(\"three\")\n",
        "        else:\n",
        "          if value==4:\n",
        "            print(\"four\")\n",
        "          else:\n",
        "            if value==5:\n",
        "              print(\"five\")\n",
        "            else:\n",
        "              print(\"too large\")\n",
        "  print(\"done\")"
      ],
      "metadata": {
        "id": "T024_Smghxa9"
      },
      "execution_count": null,
      "outputs": []
    },
    {
      "cell_type": "code",
      "source": [
        "#Declare a variable\n",
        "Number=25\n",
        "Name=\"Kiran\"\n",
        "B=3.5\n",
        "print(Number)\n",
        "print(Name)\n",
        "print(B)"
      ],
      "metadata": {
        "id": "P-65VQKghxdV"
      },
      "execution_count": null,
      "outputs": []
    },
    {
      "cell_type": "code",
      "source": [
        "#Multiple assignment\n",
        "x=y=z=\"SoftwareTestingHelp\"\n",
        "print(x)\n",
        "print(y)\n",
        "print(z)\n",
        "a,b,c=5,3.2,\"Hello\"\n",
        "print(a)\n",
        "print(b)\n",
        "print(c)"
      ],
      "metadata": {
        "id": "USKb81VFhxhw"
      },
      "execution_count": null,
      "outputs": []
    },
    {
      "cell_type": "code",
      "source": [
        "#Numbers\n",
        "a=5\n",
        "print(a,\"is of type\",type(a))"
      ],
      "metadata": {
        "id": "qgyx3e-1hxnd"
      },
      "execution_count": null,
      "outputs": []
    },
    {
      "cell_type": "code",
      "source": [
        "#String\n",
        "String1=\"Welcome\"\n",
        "String2=\"To python\"\n",
        "print(String1+String2)\n",
        "#slicing\n",
        "print(String1[2:5])"
      ],
      "metadata": {
        "id": "4Cz14Qmiq2Ug"
      },
      "execution_count": null,
      "outputs": []
    },
    {
      "cell_type": "code",
      "source": [
        "#List\n",
        "List=[2,4,5,5,\"Hi\"]\n",
        "print(\"List[2]\",List[2])"
      ],
      "metadata": {
        "id": "iv-jeTanq2W2"
      },
      "execution_count": null,
      "outputs": []
    },
    {
      "cell_type": "code",
      "source": [
        "#Tuple\n",
        "Tuple=(50,15,25.6,\"Python\")\n",
        "print(\"Tuple[1]=\",Tuple[1])"
      ],
      "metadata": {
        "id": "F_fOWa80q2ax"
      },
      "execution_count": null,
      "outputs": []
    },
    {
      "cell_type": "code",
      "source": [
        "#Set\n",
        "Set={5,1,2.6,\"python\"}\n",
        "print(Set)"
      ],
      "metadata": {
        "id": "rKVhtZmZq2fP"
      },
      "execution_count": null,
      "outputs": []
    },
    {
      "cell_type": "code",
      "source": [
        "#Dictionary\n",
        "Dict={1:'Hi',2:7.5,3:'Class'}\n",
        "print(Dict)"
      ],
      "metadata": {
        "id": "Etb333XDq2iX"
      },
      "execution_count": null,
      "outputs": []
    },
    {
      "cell_type": "code",
      "source": [
        "x=15\n",
        "y=10\n",
        "print('x+y=',x+y)\n",
        "print('x-y=',x-y)\n",
        "print('x*y=',x*y)\n",
        "print('x/y=',x/y)\n",
        "print('x//y=',x//y)"
      ],
      "metadata": {
        "id": "fRvzJr2zq2k_"
      },
      "execution_count": null,
      "outputs": []
    },
    {
      "cell_type": "code",
      "source": [
        "#comparison Operators\n",
        "x=8\n",
        "y=15\n",
        "print('x>y is',x>y)\n",
        "print('x<y is',x<y)\n",
        "print('x==y is',x==y)\n",
        "print('x!=y is',x!=y)\n",
        "print('x>=y is',x>=y)\n",
        "print('x<=y is',x<=y)"
      ],
      "metadata": {
        "id": "QsIdboxAq2nX"
      },
      "execution_count": null,
      "outputs": []
    },
    {
      "cell_type": "code",
      "source": [
        "#logical operators\n",
        "a=True\n",
        "b=False\n",
        "print('a and b is',a and b)\n",
        "print('a or b is',a and b)\n",
        "print('a not b is',a and b)"
      ],
      "metadata": {
        "id": "oXJXuIoqq2pp"
      },
      "execution_count": null,
      "outputs": []
    },
    {
      "cell_type": "code",
      "source": [
        "#identity operator\n",
        "a1=3\n",
        "b1=3\n",
        "a2=\"Python\"\n",
        "b2=\"Python\"\n",
        "a3=[4,5,6]\n",
        "b3=[4,5,6]\n",
        "print(a1 is not b1)\n",
        "print(a2 is b2)\n",
        "print(a3 is b3)"
      ],
      "metadata": {
        "id": "gv8FeGR-rFzg"
      },
      "execution_count": null,
      "outputs": []
    },
    {
      "cell_type": "code",
      "source": [
        "#Membership operator\n",
        "a=\"Python operators\"\n",
        "b={1:'x',2:'y'}\n",
        "print(\"P\" in a)\n",
        "print(1 in b)\n",
        "print('y' in b)"
      ],
      "metadata": {
        "id": "bX_xbnYArF3n"
      },
      "execution_count": null,
      "outputs": []
    },
    {
      "cell_type": "code",
      "source": [
        "#if statement\n",
        "num=5\n",
        "if( num<10):\n",
        "  print(\"Num is smaller than 10\")"
      ],
      "metadata": {
        "id": "pNY5qVezrF6Y"
      },
      "execution_count": null,
      "outputs": []
    },
    {
      "cell_type": "code",
      "source": [
        "#if-else statement\n",
        "num=5\n",
        "if(num>10):\n",
        "  print(\"number is greater than 10\")\n",
        "else:\n",
        "  print(\"number is less than 10\")"
      ],
      "metadata": {
        "id": "kAhy3cCdrF9D"
      },
      "execution_count": null,
      "outputs": []
    },
    {
      "cell_type": "code",
      "source": [
        "#elif statements\n",
        "num=10\n",
        "if(num==0):\n",
        "  print(\"Number is Zero\")\n",
        "elif(num>5):\n",
        "  print(\"Number is greater than 5\")\n",
        "else:\n",
        "  print(\"Number is smaller than 5\")"
      ],
      "metadata": {
        "id": "5swyyBhLrF_v"
      },
      "execution_count": null,
      "outputs": []
    },
    {
      "cell_type": "code",
      "source": [
        "#nested if-else statements\n",
        "num=5\n",
        "if(num>0):\n",
        "  print(\"number is positive\")\n",
        "if(num<10):\n",
        "  print(\"number is less than 10\")"
      ],
      "metadata": {
        "id": "uLidTGKXrGCR"
      },
      "execution_count": null,
      "outputs": []
    },
    {
      "cell_type": "code",
      "source": [
        "#elif ladder\n",
        "my_marks=90\n",
        "if(my_marks<35):\n",
        "  print(\"Sorry!,You failed the exam\")\n",
        "elif(my_marks>60 and my_marks>100):\n",
        "  print(\"Passed in First class\")\n",
        "else:\n",
        "  print(\"Passed in First class\")"
      ],
      "metadata": {
        "id": "r6T7cs6BrGFf"
      },
      "execution_count": null,
      "outputs": []
    },
    {
      "cell_type": "code",
      "source": [
        "#dataset importing from local machine\n",
        "from google.colab import files\n",
        "upload=files.upload()\n",
        "#import Libraries\n",
        "import pandas as pd\n",
        "import numpy as np\n",
        "import matplotlib.pyplot as plt\n",
        "#import database\n",
        "dataset=pd.read_csv('Salary_Data.csv')\n",
        "x=dataset.iloc[:,0:-1].values\n",
        "y=dataset.iloc[:,1].values\n",
        "#split dataset as train and test\n",
        "from sklearn.model_selection import train_test_split\n",
        "x_train,x_test,y_train,y_test=train_test_split(x,y,test_size=.30,random_state=0)\n",
        "from sklearn.linear_model import LinearRegression\n",
        "regress=LinearRegression()\n",
        "regress.fit(x_train,y_train)\n",
        "#predict\n",
        "y_pred=regress.predict(x_test)\n",
        "#visualise the output\n",
        "plt.title('Simple Linear Regression')\n",
        "plt.xlabel('Experience')\n",
        "plt.ylabel('Salary')\n",
        "plt.scatter(x_train,y_train,color='red')\n",
        "plt.plot(x_train,regress.predict(x_train),color='blue')\n",
        "plt.show()\n",
        "#visualise the output with test data\n",
        "plt.title('Simple Linear Regression with Test data')\n",
        "plt.xlabel('Experience')\n",
        "plt.ylabel('Salary')\n",
        "plt.scatter(x_test,y_test,color='red')\n",
        "plt.plot(x_test,regress.predict(x_test),color='blue')\n",
        "plt.show()\n",
        "#visualise the output with test data and train slope\n",
        "plt.title('Simple linear regression with test data and train slope')\n",
        "plt.xlabel('Experience')\n",
        "plt.ylabel('Salary')\n",
        "plt.scatter(x_test,y_test,color='red')\n",
        "plt.plot(x_train,regress.predict(x_train),color='blue')\n",
        "plt.show()"
      ],
      "metadata": {
        "id": "_H2UbW0erGH_"
      },
      "execution_count": null,
      "outputs": []
    },
    {
      "cell_type": "code",
      "source": [
        "#passed by value\n",
        "#function definition is here\n",
        "def changeme(mylist):\n",
        "  \"This changes a passed list into this fucntion\"\n",
        "  mylist.append([1,2,3,4]);\n",
        "  print(\"Values inside the function: \",mylist)\n",
        "  return\n",
        "#now you can call changeme function\n",
        "mylist=[10,20,30];\n",
        "changeme(mylist);\n",
        "print(\"values outside the function: \",mylist)"
      ],
      "metadata": {
        "id": "Vprkg7-MrGLf"
      },
      "execution_count": null,
      "outputs": []
    },
    {
      "cell_type": "code",
      "source": [
        "#passed by reference\n",
        "#function definition is here\n",
        "def changeme(mylist):\n",
        "  \"This changes a passed list into this function\"\n",
        "  mylist=[1,2,3,4]; #This would assign new reference in mylist\n",
        "  print(\"Values inside the function: \",mylist)\n",
        "  return\n",
        "#now you can call changeme function\n",
        "mylist=[10,20,30];\n",
        "changeme(mylist);\n",
        "print(\"Values outside the function: \",mylist)"
      ],
      "metadata": {
        "id": "rOQyRWrGrxYZ"
      },
      "execution_count": null,
      "outputs": []
    },
    {
      "cell_type": "code",
      "source": [
        "#keyword arguments\n",
        "#function definition is here\n",
        "def printme(str):\n",
        "  \"This prints a passed string into this function\"\n",
        "  print(str)\n",
        "  return;\n",
        "#Now you can call printme function\n",
        "printme(str=\"My string\")"
      ],
      "metadata": {
        "id": "XNM4zaVirxa3"
      },
      "execution_count": null,
      "outputs": []
    },
    {
      "cell_type": "code",
      "source": [
        "def printinfo(name,age):\n",
        "  \"This prints a passed info into this function\"\n",
        "  print(\"Name: \",name)\n",
        "  print(\"Age: \",age)\n",
        "  return;\n",
        "printinfo(age=50,name=\"miki\")"
      ],
      "metadata": {
        "id": "0FWTSM3_rxdc"
      },
      "execution_count": null,
      "outputs": []
    },
    {
      "cell_type": "code",
      "source": [
        "#default arguments\n",
        "def printinfo(name, age=35):\n",
        "  \"This prints a passed info into this function\"\n",
        "  print(\"Name: \",name)\n",
        "  print(\"Age\",age)\n",
        "  return;\n",
        "printinfo(age=50,name=\"miki\")\n",
        "printinfo(name=\"miki\")"
      ],
      "metadata": {
        "id": "mEAhdqbvrxfq"
      },
      "execution_count": null,
      "outputs": []
    },
    {
      "cell_type": "code",
      "source": [
        "def printinfo(arg1, *vartuple ):\n",
        "  \"This prints a variable passed arguments\"\n",
        "  print(\"Output is: \")\n",
        "  print(arg1)\n",
        "  for var in vartuple:\n",
        "    print(var)\n",
        "  return;\n",
        "printinfo(10)\n",
        "printinfo(70,60,50)"
      ],
      "metadata": {
        "id": "8hu_rysbrxiO"
      },
      "execution_count": null,
      "outputs": []
    },
    {
      "cell_type": "code",
      "source": [
        "#scope of variables\n",
        "total=0;#The global variable\n",
        "def sum(arg1,arg2):\n",
        "  total=arg1+arg2;\n",
        "  print(\"Inside the function local total: \",total)\n",
        "  return total;\n",
        "sum(10,20);\n",
        "print(\"Outside the function global total: \",total)"
      ],
      "metadata": {
        "id": "1VXaCwfSrxk5"
      },
      "execution_count": null,
      "outputs": []
    },
    {
      "cell_type": "code",
      "source": [
        "#prime number program using math functions\n",
        "from math import sqrt\n",
        "max_value=eval(input(\"Display primes up to what value?\"))\n",
        "value=2 #smallest prime number\n",
        "while value<=max_value:\n",
        "  is_prime=True\n",
        "  trial_factor=2\n",
        "  root=sqrt(value)\n",
        "  while trial_factor<=root:\n",
        "    if value%trial_factor==0:\n",
        "      is_prime=False;\n",
        "      break\n",
        "    trial_factor+=1\n",
        "  if is_prime:\n",
        "    print(value, end=' ')\n",
        "  value+=1\n",
        "print()"
      ],
      "metadata": {
        "id": "kE6Px4bGrxnS"
      },
      "execution_count": null,
      "outputs": []
    },
    {
      "cell_type": "code",
      "source": [
        "#clock example 1\n",
        "from time import clock\n",
        "print(\"Enter your name: \",end=\"\")\n",
        "start_time=clock()\n",
        "name=input()\n",
        "elapsed=clock()-start_time\n",
        "print(name, \"it took you\",elapsed,\"seconds to respond\")"
      ],
      "metadata": {
        "id": "v8INncDUrxpe"
      },
      "execution_count": null,
      "outputs": []
    },
    {
      "cell_type": "code",
      "source": [
        "#clock example 2\n",
        "from time import clock\n",
        "max_value=10000\n",
        "count=0\n",
        "start_time=clock()\n",
        "for value in range(2,max_value+1):\n",
        "  is_prime=True\n",
        "  for trial_factor in range(2,value):\n",
        "    if value%trial_factor==0:\n",
        "      is_prime=False\n",
        "      break\n",
        "  if is_prime:\n",
        "    count+=1\n",
        "print()\n",
        "elapsed=clock()-start_time\n",
        "print(\"Count:\",count, \"Elapsed time:\",elapsed, \"sec\")"
      ],
      "metadata": {
        "id": "3Bt8hVW2rxtp"
      },
      "execution_count": null,
      "outputs": []
    },
    {
      "cell_type": "code",
      "source": [
        "#simplerandom\n",
        "from random import randrange, seed\n",
        "seed(23)\n",
        "for i in range(0,100):\n",
        "  print(randrange(1,1000),end=' ')\n",
        "print()"
      ],
      "metadata": {
        "id": "D4mUhZFirxwa"
      },
      "execution_count": null,
      "outputs": []
    },
    {
      "cell_type": "code",
      "source": [
        "#rolling of a die program using random module functions\n",
        "from random import randrange\n",
        "for i in range(0,3):\n",
        "  value=randrange(1,6)\n",
        "  print(\"+----------+\")\n",
        "  if value==1:\n",
        "    print(\"|         |\")\n",
        "    print(\"|    *    |\")\n",
        "    print(\"|         |\")\n",
        "  elif value==2:\n",
        "    print(\"| *       |\")\n",
        "    print(\"|         |\")\n",
        "    print(\"|       * |\")\n",
        "  elif value==3:\n",
        "    print(\"|       * |\")\n",
        "    print(\"|    *    |\")\n",
        "    print(\"| *       |\")\n",
        "  elif value==4:\n",
        "    print(\"| *     * |\")\n",
        "    print(\"|         |\")\n",
        "    print(\"| *     * |\")\n",
        "  elif value==5:\n",
        "    print(\"| *     * |\")\n",
        "    print(\"|    *    |\")\n",
        "    print(\"| *     * |\")\n",
        "  elif value==6:\n",
        "    print(\"|  * * *  |\")\n",
        "    print(\"|  * * *  |\")\n",
        "    print(\"|  * * *  |\")"
      ],
      "metadata": {
        "id": "-spzyTc5vs0Y"
      },
      "execution_count": null,
      "outputs": []
    },
    {
      "cell_type": "code",
      "source": [
        "#gcdwithmain\n",
        "def gcd(m,n):\n",
        "  min=m if m<n else n\n",
        "  largestFactor=1\n",
        "  for i in range(1,min+1):\n",
        "    if m%i==0 and n%i==0:\n",
        "      largestFactor=i\n",
        "  return largestFactor\n",
        "def get_int():\n",
        "  return int(input(\"Please enter an integer: \"))\n",
        "def main():\n",
        "  n1=get_int()\n",
        "  n2=get_int()\n",
        "  print(\"gcd(\",n1,\",\", n2,\")=\",gcd(n1,n2),sep=\" \")\n",
        "main()"
      ],
      "metadata": {
        "id": "AzY5geZPvtEn"
      },
      "execution_count": null,
      "outputs": []
    },
    {
      "cell_type": "code",
      "source": [
        "#parameter passing example\n",
        "def increment(x):\n",
        "  print(\"Beginning execution of increment, x= \",x)\n",
        "  x+=1\n",
        "  print(\"Ending execition of increment, x= \",x)\n",
        "def main():\n",
        "  x=5\n",
        "  print(\"Before increment, x=\",x)\n",
        "  increment(x)\n",
        "  print(\"After increment, x=\",x)\n",
        "main()"
      ],
      "metadata": {
        "id": "MMJrqb-SvtOP"
      },
      "execution_count": null,
      "outputs": []
    },
    {
      "cell_type": "code",
      "source": [
        "#recursion\n",
        "def factorial(n):\n",
        "  if n==0:\n",
        "    return 1\n",
        "  else:\n",
        "    return n*factorial(n-1)\n",
        "def main():\n",
        "  print(\"0!= \", factorial(0))\n",
        "  print(\"1!= \", factorial(1))\n",
        "  print(\"6!= \", factorial(6))\n",
        "  print(\"10!= \", factorial(10))\n",
        "main()"
      ],
      "metadata": {
        "id": "tNfn9CIRvtS2"
      },
      "execution_count": null,
      "outputs": []
    },
    {
      "cell_type": "code",
      "source": [
        "#arithmeticeval\n",
        "def add(x,y):\n",
        "  return x+y\n",
        "def multiply(x,y):\n",
        "  return x*y\n",
        "def evaluate(f,x,y):\n",
        "  return f(x,y)\n",
        "def main():\n",
        "  print(add(2,3))\n",
        "  print(multiply(2,3))\n",
        "  print(evaluate(add,2,3))\n",
        "  print(evaluate(multiply,2,3))\n",
        "main()"
      ],
      "metadata": {
        "colab": {
          "base_uri": "https://localhost:8080/"
        },
        "id": "n9CC-6iDvtWe",
        "outputId": "4182a189-cde7-4f5f-b4b8-0e63899d40f4"
      },
      "execution_count": 6,
      "outputs": [
        {
          "output_type": "stream",
          "name": "stdout",
          "text": [
            "5\n",
            "6\n",
            "5\n",
            "6\n"
          ]
        }
      ]
    },
    {
      "cell_type": "code",
      "source": [
        ""
      ],
      "metadata": {
        "id": "wsNH_sUHvtay"
      },
      "execution_count": null,
      "outputs": []
    },
    {
      "cell_type": "code",
      "source": [
        ""
      ],
      "metadata": {
        "id": "yf1IpQDBvtem"
      },
      "execution_count": null,
      "outputs": []
    },
    {
      "cell_type": "code",
      "source": [
        ""
      ],
      "metadata": {
        "id": "7H_QDEFYvtip"
      },
      "execution_count": null,
      "outputs": []
    },
    {
      "cell_type": "code",
      "source": [
        ""
      ],
      "metadata": {
        "id": "5lMSMHsfvtmm"
      },
      "execution_count": null,
      "outputs": []
    },
    {
      "cell_type": "code",
      "source": [
        ""
      ],
      "metadata": {
        "id": "zsBQKJKMvtqe"
      },
      "execution_count": null,
      "outputs": []
    },
    {
      "cell_type": "code",
      "source": [
        ""
      ],
      "metadata": {
        "id": "SIQtBKuEvtuP"
      },
      "execution_count": null,
      "outputs": []
    },
    {
      "cell_type": "code",
      "source": [
        ""
      ],
      "metadata": {
        "id": "CYp-x1g8vtx3"
      },
      "execution_count": null,
      "outputs": []
    },
    {
      "cell_type": "code",
      "source": [
        ""
      ],
      "metadata": {
        "id": "Bg1Y-Ya2vt1v"
      },
      "execution_count": null,
      "outputs": []
    },
    {
      "cell_type": "code",
      "source": [
        ""
      ],
      "metadata": {
        "id": "IMqMRaNpvt5E"
      },
      "execution_count": null,
      "outputs": []
    },
    {
      "cell_type": "code",
      "source": [
        ""
      ],
      "metadata": {
        "id": "R6RYLQVQvt8f"
      },
      "execution_count": null,
      "outputs": []
    }
  ]
}